{
 "cells": [
  {
   "cell_type": "markdown",
   "metadata": {},
   "source": [
    "# Plots\n",
    "For the linear uncertainty solver paper"
   ]
  },
  {
   "cell_type": "code",
   "execution_count": null,
   "metadata": {},
   "outputs": [],
   "source": [
    "using Plots\n",
    "\n",
    "using Measurements\n",
    "using Distributions\n",
    "using LaTeXStrings"
   ]
  },
  {
   "cell_type": "code",
   "execution_count": null,
   "metadata": {},
   "outputs": [],
   "source": [
    "# uncomment and run this cell for publication quality plots, which however take more time to build and more ram. \n",
    "# It will also require a latex installation with some relevant packages.\n",
    "# pgfplotsx()"
   ]
  },
  {
   "cell_type": "markdown",
   "metadata": {},
   "source": [
    "## Linear Prototype Model"
   ]
  },
  {
   "cell_type": "code",
   "execution_count": null,
   "metadata": {},
   "outputs": [],
   "source": [
    "# define some initial variables\n",
    "\n",
    "μₓ = 0.5\n",
    "# Σₓ = 0.2\n",
    "\n",
    "# GP approx\n",
    "a = 2.\n",
    "b = 0.1"
   ]
  },
  {
   "cell_type": "markdown",
   "metadata": {},
   "source": [
    "### Linear model"
   ]
  },
  {
   "cell_type": "code",
   "execution_count": null,
   "metadata": {},
   "outputs": [],
   "source": [
    "x0 = 0.3\n",
    "Σ0 = 0.05\n",
    "bs = range(-2.5*b, 2.5*b, length = 5)\n",
    "x0s = range(x0-2*Σ0, x0+2*Σ0, length = 3)\n",
    "\n",
    "line(x, b) = -a * x + b\n",
    "sol(x0, b, t) = exp(-a*t)*x0 + b/a * (1-exp(-a*t))\n",
    "\n",
    "xs = range(-0.2, 0.2, length = 100)\n",
    "ts = range(0., 2., length = 100)\n",
    "\n",
    "cls = Plots.Colors.colormap(\"blues\", 8)[3:end]\n",
    "\n",
    "p1 = plot(; xlabel = \"x\", ylabel = \"f(x)\", legend = :topright)\n",
    "p2 = plot(; xlabel = \"time t\", ylabel = \"x\", legend = :topright)\n",
    "\n",
    "for (i, b) in enumerate(bs)\n",
    "    plot!(p1, xs, line.(xs, b); color = cls[i], label = \"b=$b\")\n",
    "    for x0 in x0s\n",
    "        plot!(p2, ts, sol.(x0, b, ts); color = cls[i], label = \"\")\n",
    "    end\n",
    "end\n",
    "\n",
    "dist_lhwd = 2.2\n",
    "# distribution of lines in model plot\n",
    "anchor = -0.05\n",
    "b_dist = Normal(-anchor*a,b)\n",
    "dxs = range(-anchor*a-3.5*b, -anchor*a+3.5*b, length = 40)\n",
    "plot!(p1, anchor .+ pdf.(b_dist, dxs)*0.01, dxs; \n",
    "    label = L\"\\mathcal{N}(-a x, \\beta)\" , color = cls[end], linewidth = dist_lhwd)\n",
    "plot!(p1, anchor .* ones(2), [-anchor*a-4*b, -anchor*a+4*b];\n",
    "    color = :black, label = \"\")\n",
    "\n",
    "# trajectory distributions\n",
    "## initial\n",
    "x0_dist = Normal(x0, Σ0)\n",
    "x0ds = range(x0-3*Σ0, x0+3*Σ0, length = 70)\n",
    "plot!(p2, pdf.(x0_dist, x0ds)*0.016, x0ds; \n",
    "    linewidth = dist_lhwd, label = L\"\\mathcal{N}(\\mu_0, \\Sigma_0)\")\n",
    "plot!(p2, [0., 0.], [x0-3*Σ0, x0+3*Σ0]; color = :black, label = \"\")\n",
    "## end\n",
    "Σ2 = b/(a)\n",
    "x2_dist = Normal(0, Σ2)\n",
    "x2ds = range(-3*Σ2, 3*Σ2, length = 70)\n",
    "plot!(p2, 2 .+ pdf.(x2_dist, x2ds)*0.016, x2ds; \n",
    "    linewidth = dist_lhwd, label = L\"\\mathcal{N}(0, \\beta/a^2)\")\n",
    "plot!(p2, [2., 2.], [-3*Σ2, 3*Σ2]; color = :black, label = \"\")\n",
    "\n",
    "\n",
    "lin_plot = plot(p1, p2; layout = (2, 1), size = (450, 350), bottom_margin = -6Plots.Measures.mm)"
   ]
  },
  {
   "cell_type": "code",
   "execution_count": null,
   "metadata": {},
   "outputs": [],
   "source": [
    "ptmp = plot(lin_plot, size = (450, 350))\n",
    "# uncomment to save plot\n",
    "# savefig(ptmp, \"proto_lin_model.pdf\")"
   ]
  },
  {
   "cell_type": "markdown",
   "metadata": {},
   "source": [
    "### Moment-Matching extended to Euler (Bad Euler)"
   ]
  },
  {
   "cell_type": "code",
   "execution_count": null,
   "metadata": {},
   "outputs": [],
   "source": [
    "β = -.5\n",
    "h = 0.01;\n",
    "tspan = [0., 2.]\n",
    "μₓ = 0.5\n",
    "Σₓ = 0.002\n",
    "x0 = [μₓ] #± Σₓ\n",
    "\n",
    "# generate maximally distinguishable colors\n",
    "cols = distinguishable_colors(6, [RGB(1,1,1), RGB(0,0,0)], dropseed=true)"
   ]
  },
  {
   "cell_type": "code",
   "execution_count": null,
   "metadata": {},
   "outputs": [],
   "source": [
    "using DifferentialEquations\n",
    "using DifferentialEquations.EnsembleAnalysis\n",
    "\n",
    "f(x, p, t) = -a.*x .+ p[1]\n",
    "prob = ODEProblem(f, x0, tspan, [β])\n",
    "\n",
    "function prob_func(prob, i, repeat)\n",
    "    @. prob.p = randn() * sqrt(b)\n",
    "    @. prob.u0 = μₓ + randn()*sqrt(Σₓ)\n",
    "    prob\n",
    "end\n",
    "\n",
    "let \n",
    "    ens_prob = EnsembleProblem(prob; prob_func)\n",
    "    ens_sol = solve(ens_prob; trajectories = 500000);\n",
    "\n",
    "    global eval_tpoints = range(tspan[1], tspan[2], length = 80)\n",
    "    full_meanvars = timepoint_meanvar.(Ref(ens_sol),eval_tpoints);\n",
    "    global sample_mean = reduce(vcat, getindex.(full_meanvars, 1))\n",
    "    global sample_std = sqrt.(reduce(vcat, getindex.(full_meanvars, 2)));\n",
    "end;\n",
    "\n",
    "let \n",
    "    ens_prob = EnsembleProblem(prob; prob_func)\n",
    "    ens_sol = solve(ens_prob; trajectories = 50000);\n",
    "\n",
    "    eval_tpoints = range(tspan[1], tspan[2], length = 80)\n",
    "    full_meanvars = timepoint_meanvar.(Ref(ens_sol),eval_tpoints);\n",
    "    sample_mean = reduce(vcat, getindex.(full_meanvars, 1))\n",
    "    global sample_std_low = sqrt.(reduce(vcat, getindex.(full_meanvars, 2)));\n",
    "end;"
   ]
  },
  {
   "cell_type": "code",
   "execution_count": null,
   "metadata": {},
   "outputs": [],
   "source": [
    "v(Σ, a, h) = Σ .+ h^2*b .+ h^2*a^2*Σ .- 2*h*a*Σ\n",
    "vs(Σ, h) = v(Σ, a, h)\n",
    "\n",
    "function badeulerstep(x, h)\n",
    "    m = (1 - a*h) * x.val\n",
    "    v = vs(x.err^2, h)\n",
    "    m ± sqrt(v)\n",
    "end\n",
    "\n",
    "function badeuler(x0, tspan, h)\n",
    "    nsteps = ceil(Int, diff(tspan)[1]/h)\n",
    "\n",
    "    xe = zeros(Measurement{Float64}, nsteps+1)\n",
    "# \n",
    "    xe[1] = x0 # μ₀ ± sqrt(Σ₀)\n",
    "\n",
    "    for i in 1:nsteps\n",
    "        xe[i+1] = badeulerstep(xe[i], h)\n",
    "    end\n",
    "    th = tspan[1]:h:h*nsteps\n",
    "\n",
    "    th, xe\n",
    "end"
   ]
  },
  {
   "cell_type": "markdown",
   "metadata": {},
   "source": [
    "#### Step-size dependence"
   ]
  },
  {
   "cell_type": "code",
   "execution_count": null,
   "metadata": {},
   "outputs": [],
   "source": [
    "# plot for the paper\n",
    "x0 = μₓ ± sqrt(Σₓ)\n",
    "\n",
    "lbls = [\"2h\", \"h\", \"h/2\"]\n",
    "p1 = plot(; xlabel = \"time t\", ylabel = \"mean error\")\n",
    "p2 = plot(; legend = :right, xlabel = \"time t\", ylabel = \"variance\", left_margin = -5Plots.Measures.mm)\n",
    "an_mean_sol(x0, t) = exp(-a*t) * x0 \n",
    "\n",
    "lstyles = [:solid, :dash, :dot]\n",
    "plot!(p1, eval_tpoints[[1, end]], [0., 0.]; color = :black, label = \"\")\n",
    "plot!(p2, eval_tpoints, sample_std.^2; color = :black, label = \"sampling\")\n",
    "for (i, h) in enumerate([h*2, h, h/2])\n",
    "    be_sol = badeuler(x0, tspan, h)\n",
    "    # mean error plot\n",
    "    err = abs.(getfield.(be_sol[2], :val) .- an_mean_sol.(μₓ, be_sol[1]))\n",
    "    plot!(p1, be_sol[1], err; label = \"\", color = cols[2], linestyle = lstyles[i])\n",
    "    # var plot\n",
    "    plot!(p2, be_sol[1], getfield.(be_sol[2], :err).^2;\n",
    "        label = lbls[i], color = cols[2], linestyle = lstyles[i])\n",
    "end\n",
    "be_plot = plot(p1, p2)"
   ]
  },
  {
   "cell_type": "code",
   "execution_count": null,
   "metadata": {},
   "outputs": [],
   "source": [
    "# for the poster\n",
    "using Interpolations\n",
    "\n",
    "x0 = μₓ ± sqrt(Σₓ)\n",
    "\n",
    "lbls = [\"2h\", \"h\", \"h/2\"]\n",
    "p1 = plot(; xlabel = \"time t\", ylabel = \"error of the mean\")\n",
    "p2 = plot(; legend = :right, xlabel = \"time t\", ylabel = \"std. deviation\", left_margin = -5Plots.Measures.mm)\n",
    "an_mean_sol(x0, t) = exp(-a*t) * x0 \n",
    "\n",
    "lwdh = 2.0\n",
    "lstyles = [:solid, :dash, :dot]\n",
    "plot!(p1, eval_tpoints[[1, end]], [0., 0.]; color = :black, label = \"\", linewidth = lwdh)\n",
    "plot!(p2, eval_tpoints, sample_std.^1; color = :black, label = \"sampling\")\n",
    "# plot!(p2, eval_tpoints[[1, end]], [0., 0.]; color = :black, label = \"sampling\", linewidth = lwdh)\n",
    "\n",
    "sitp = linear_interpolation(eval_tpoints, sample_std)\n",
    "\n",
    "for (i, h) in enumerate([h*2, h, h/2])\n",
    "    be_sol = badeuler(x0, tspan, h)\n",
    "    # mean error plot\n",
    "    err = abs.(getfield.(be_sol[2], :val) .- an_mean_sol.(μₓ, be_sol[1]))\n",
    "    plot!(p1, be_sol[1], err; label = \"\", color = cols[2], linestyle = lstyles[i], linewidth = lwdh)\n",
    "    # var plot\n",
    "    # err = abs.(getfield.(be_sol[2], :err).^1 .- sitp.(be_sol[1]).^1)\n",
    "    err = getfield.(be_sol[2], :err)\n",
    "    plot!(p2, be_sol[1], err;\n",
    "        label = lbls[i], color = cols[2], linestyle = lstyles[i], linewidth = lwdh)\n",
    "end\n",
    "be_plot = plot(p1, p2; size = (1000, 330).*0.65, left_margin = 3Plots.Measures.mm, bottom_margin = 4Plots.Measures.mm)\n",
    "\n",
    "# savefig(be_plot, \"be_plot.pdf\")\n",
    "\n",
    "be_plot"
   ]
  },
  {
   "cell_type": "code",
   "execution_count": null,
   "metadata": {},
   "outputs": [],
   "source": [
    "ptmp = plot(be_plot, size = (650, 450))\n",
    "# savefig(ptmp, \"step_size_dep.pdf\")"
   ]
  },
  {
   "cell_type": "markdown",
   "metadata": {},
   "source": [
    "#### Restarts"
   ]
  },
  {
   "cell_type": "code",
   "execution_count": null,
   "metadata": {},
   "outputs": [],
   "source": [
    "ninterval = 3\n",
    "interval_edges = range(tspan[1], tspan[end], length = ninterval+1)\n",
    "μin = μₓ\n",
    "Sin = Σₓ\n",
    "x0 = [μₓ]\n",
    "\n",
    "nsims = 30000\n",
    "vbeta = randn(nsims) * sqrt(b)\n",
    "\n",
    "transient_labels = [\"\", \"\", \"trans.\"]\n",
    "asym_labels = [\"\", \"\", \"asym.\"]\n",
    "full_labels = [\"\", \"\", \"sampl.\"]\n",
    "\n",
    "p3 = plot(; xlabel = \"time t\", ylabel = \"variance\", legend = :topleft, ylim = (0., 0.017))\n",
    "\n",
    "for i in 1:ninterval\n",
    "    tsp = interval_edges[i:i+1]\n",
    "    prob = ODEProblem(f, x0, tsp, [β])\n",
    "\n",
    "    function prob_func(prob, i, repeat)\n",
    "        @. prob.p = vbeta[i]\n",
    "        @. prob.u0 = μin + randn()*sqrt(Sin)\n",
    "        prob\n",
    "    end\n",
    "    \n",
    "    ens_prob = EnsembleProblem(prob; prob_func)\n",
    "\n",
    "    ens_sol = solve(ens_prob; trajectories = nsims);\n",
    "\n",
    "    eval_itpoints = range(tsp[1], tsp[2], length = ceil(Int, 80/ninterval))\n",
    "    meanvars = timepoint_meanvar.(Ref(ens_sol),eval_itpoints);\n",
    "    means = reduce(vcat, getindex.(meanvars, 1))\n",
    "    vars = reduce(vcat, getindex.(meanvars, 2))\n",
    "\n",
    "    dts = range(0., tsp[2]-tsp[1], length = length(eval_itpoints))\n",
    "    transient(t) = exp(-2*a*t)*Sin\n",
    "    asym(t) = b/(a^2)*(1-exp(-a*t))^2\n",
    "    plot!(p3, eval_itpoints, vars; \n",
    "        color = :black, label = full_labels[i], linewidth = 1.8)\n",
    "    plot!(p3, eval_itpoints, transient.(dts); \n",
    "        color = cols[4], label = transient_labels[i])\n",
    "    plot!(p3, eval_itpoints, asym.(dts); \n",
    "        color = cols[5], label = asym_labels[i])\n",
    "    \n",
    "    μin = means[end] \n",
    "    Sin = vars[end]\n",
    "end\n",
    "\n",
    "plot!(p3, interval_edges[2]*ones(2),  [0., 0.015];\n",
    "    color = :grey60, linestyle = :dash, label = \"restart\")\n",
    "plot!(p3, interval_edges[3]*ones(2),  [0., 0.015];\n",
    "    color = :grey60, linestyle = :dash, label = \"\")\n",
    "\n",
    "prs = deepcopy(p3)"
   ]
  },
  {
   "cell_type": "code",
   "execution_count": null,
   "metadata": {},
   "outputs": [],
   "source": [
    "# for the poster\n",
    "using LaTeXStrings\n",
    "\n",
    "ninterval = 3\n",
    "interval_edges = range(tspan[1], tspan[end], length = ninterval+1)\n",
    "μin = μₓ\n",
    "Sin = Σₓ\n",
    "x0 = [μₓ]\n",
    "\n",
    "transient(t) = exp(-2*a*t)*Sin\n",
    "asym(t) = b/(a^2)*(1-exp(-a*t))^2\n",
    "\n",
    "nsims = 60000\n",
    "vbeta = randn(nsims) * sqrt(b)\n",
    "\n",
    "transient_labels = [\"\", \"\", \"transient\"]\n",
    "asym_labels = [\"\", \"\", \"asymptotic\"]\n",
    "full_labels = [\"sample from X₀\", \"sample from X₁\", \"sample from X₂\"]\n",
    "\n",
    "p3 = plot(; xlabel = \"time t\", ylabel = \"variance\", legend = :topleft, ylim = (0., 0.025), size = (1000, 480).*0.65)\n",
    "\n",
    "prob = ODEProblem(f, x0, tspan, [β])\n",
    "function prob_func(prob, i, repeat)\n",
    "    @. prob.p = vbeta[i]\n",
    "    @. prob.u0 = μin + randn()*sqrt(Sin)\n",
    "    prob\n",
    "end\n",
    "eval_itpoints = range(tspan[1], tspan[2], length = ceil(Int, 240/ninterval))\n",
    "ens_prob = EnsembleProblem(prob; prob_func)\n",
    "ens_sol = solve(ens_prob; trajectories = nsims);\n",
    "meanvars = timepoint_meanvar.(Ref(ens_sol),eval_itpoints);\n",
    "vars = reduce(vcat, getindex.(meanvars, 2))\n",
    "\n",
    "plot!(p3, eval_itpoints, vars; \n",
    "    color = :black, label = \"full sample\", linewidth = 1.8, linestyle = :dash)\n",
    "    plot!(p3, eval_itpoints, transient.(eval_itpoints); \n",
    "    color = cols[4], label = \"\", linewidth = 1.8, linestyle = :dash)\n",
    "plot!(p3, eval_itpoints, asym.(eval_itpoints); \n",
    "    color = cols[5], label = \"\", linewidth = 1.8, linestyle = :dash)\n",
    "\n",
    "plot!(p3, interval_edges[2]*ones(2),  [0., 0.0145];\n",
    "    color = :grey70, linestyle = :dot, label = \"restart\", linewidth = 2.3)\n",
    "plot!(p3, interval_edges[3]*ones(2),  [0., 0.015];\n",
    "    color = :grey70, linestyle = :dot, label = \"\", linewidth = 2.3)\n",
    "\n",
    "greys = [:grey50, :grey40, :grey30]\n",
    "endp = []\n",
    "endv = []\n",
    "for i in 1:ninterval\n",
    "    tsp = interval_edges[i:i+1]\n",
    "    prob = ODEProblem(f, x0, tsp, [β])\n",
    "\n",
    "    function prob_func(prob, i, repeat)\n",
    "        @. prob.p = vbeta[i]\n",
    "        @. prob.u0 = μin + randn()*sqrt(Sin)\n",
    "        prob\n",
    "    end\n",
    "    \n",
    "    ens_prob = EnsembleProblem(prob; prob_func)\n",
    "\n",
    "    ens_sol = solve(ens_prob; trajectories = nsims);\n",
    "\n",
    "    eval_itpoints = range(tsp[1], tsp[2], length = ceil(Int, 80/ninterval))\n",
    "    meanvars = timepoint_meanvar.(Ref(ens_sol),eval_itpoints);\n",
    "    means = reduce(vcat, getindex.(meanvars, 1))\n",
    "    vars = reduce(vcat, getindex.(meanvars, 2))\n",
    "\n",
    "    dts = range(0., tsp[2]-tsp[1], length = length(eval_itpoints))\n",
    "    \n",
    "    plot!(p3, eval_itpoints, vars; \n",
    "        color = greys[i], label = full_labels[i], linewidth = 1.8)\n",
    "    plot!(p3, eval_itpoints, transient.(dts); \n",
    "        color = cols[4], label = transient_labels[i])\n",
    "    plot!(p3, eval_itpoints, asym.(dts); \n",
    "        color = cols[5], label = asym_labels[i])\n",
    "    \n",
    "    push!(endp, eval_itpoints[end])\n",
    "    push!(endv, vars[end])\n",
    "    \n",
    "    μin = means[end] \n",
    "    Sin = vars[end]\n",
    "end\n",
    "\n",
    "scatter!(p3, endp, endv; \n",
    "        color = :orange, label = \"\", markersize = 3.2)\n",
    "\n",
    "plot!(p3, xticks = ([0., 0.5, 2/3, 1., 4/3, 1.5, 2.], [\"0.0\", \"0.5\", \"\\$t_1\\$\", \"1.0\", \"\\$t_2\\$\", \"1.5\", \"2\"]); size = (1000, 480).*0.65)\n",
    "annotate!([2/3, 4/3], endv[1:2] .+ 0.002, [L\"$\\Sigma_1$\", L\"$\\Sigma_2$\"])\n",
    "\n",
    "p3"
   ]
  },
  {
   "cell_type": "code",
   "execution_count": null,
   "metadata": {},
   "outputs": [],
   "source": [
    "# savefig(p3, \"central_plot.pdf\")"
   ]
  },
  {
   "cell_type": "code",
   "execution_count": null,
   "metadata": {},
   "outputs": [],
   "source": [
    "middle_plot = plot(be_plot, prs; layout = (2, 1))"
   ]
  },
  {
   "cell_type": "markdown",
   "metadata": {},
   "source": [
    "## Corrected solvers"
   ]
  },
  {
   "cell_type": "code",
   "execution_count": null,
   "metadata": {},
   "outputs": [],
   "source": [
    "# iterated flow\n",
    "itervar(S, n) = exp(-2*a*h)*S + b/a^2*(1 - exp(-a*h))^2 + 2*b/a^2 *(1 - exp(-a*h))*exp(-a*h)*(1 - exp(-a*h*n))\n",
    "\n",
    "# Euler steps on the linear model\n",
    "fs(n, h) = sum((1-a*h).^(n-1:-1:0))\n",
    "eulervar(S, n, h) = (1-a*h)^2 * S + h^2*b + 2*fs(n, h)*h^2*b*(1-a*h)\n",
    "\n",
    "function euler(Σₓ, tspan, h)\n",
    "    timesteps = collect(range(tspan[1], tspan[2], step = h))\n",
    "    eulervarsteps = zeros(length(timesteps))\n",
    "    eulervarsteps[1] = Σₓ\n",
    "\n",
    "    for i in 1:length(timesteps)-1\n",
    "        eulervarsteps[i+1] = eulervar(eulervarsteps[i], i, h)\n",
    "    end\n",
    "    timesteps, eulervarsteps\n",
    "end\n",
    "\n",
    "# analytical solution\n",
    "ana_mean(t) = exp(-a*t)*μₓ\n",
    "ana_var(t) = exp(-2*a*t)*Σₓ + b/(a^2)*(1-exp(-a*t))^2"
   ]
  },
  {
   "cell_type": "code",
   "execution_count": null,
   "metadata": {},
   "outputs": [],
   "source": [
    "# corrected Euler\n",
    "ts1, ev1 = euler(Σₓ, tspan, h)\n",
    "ts2, ev2 = euler(Σₓ, tspan, h/2)\n",
    "ts4, ev4 = euler(Σₓ, tspan, h/4)\n",
    "\n",
    "# iterated flow\n",
    "timesteps = collect(range(tspan[1], tspan[2], step = h))\n",
    "varsteps = zeros(length(timesteps))\n",
    "varsteps[1] = Σₓ\n",
    "\n",
    "for i in 1:length(timesteps)-1\n",
    "    varsteps[i+1] = itervar(varsteps[i], i)\n",
    "end"
   ]
  },
  {
   "cell_type": "code",
   "execution_count": null,
   "metadata": {},
   "outputs": [],
   "source": [
    "p = plot(; legend = :topleft, xlabel = \"time t\", ylabel = \"variance\")\n",
    "plot!(p, eval_tpoints, ana_var.(eval_tpoints);  \n",
    "    label = \"analytic\", color = cols[1])\n",
    "plot!(p, eval_tpoints, sample_std.^2; \n",
    "    label = \"sampling, 500k\", color = :black, linestyle = :dash)\n",
    "plot!(p, eval_tpoints, sample_std_low.^2; \n",
    "    label = \"sampling, 50k\", color = :black)\n",
    "plot!(p, timesteps, varsteps; \n",
    "    label = \"flow steps\", color = cols[3])\n",
    "plot!(p, ts1, ev1; \n",
    "    label = \"corr. euler, h\", color = cols[4])\n",
    "plot!(p, ts2, ev2; \n",
    "    label = \"corr. euler, h/2\", color = cols[4], linestyle = :dash)\n",
    "plot!(p, ts4, ev4; \n",
    "    label = \"corr. euler, h/4\", color = cols[4], linestyle = :dot)\n",
    "\n",
    "# pin = plot()\n",
    "err = abs.(sample_std.^2 .- ana_var.(eval_tpoints)) ./ana_var.(eval_tpoints)\n",
    "plot!(p, eval_tpoints, err; inset = (1, bbox(0.43,0.37,0.55,0.57)), subplot = 2,\n",
    "    label = \"\", color = :black, linestyle = :dash, ylabel = \"error\") # , xlabel = \"time t\",\n",
    "plot!(p, timesteps, zeros(length(timesteps)); subplot = 2,\n",
    "    label = \"\", color = cols[1])\n",
    "err = abs.(sample_std_low.^2 .- ana_var.(eval_tpoints)) ./ana_var.(eval_tpoints)\n",
    "plot!(p, eval_tpoints, err, label = \"\", color = :black, subplot = 2)\n",
    "err = abs.(varsteps .- ana_var.(timesteps)) ./ ana_var.(timesteps)\n",
    "plot!(p, timesteps, err; subplot = 2,\n",
    "    label = \"\", color = cols[3])\n",
    "err = abs.(ev1 .- ana_var.(ts1)) ./ ana_var.(ts1)\n",
    "plot!(p, ts1, err; subplot = 2,\n",
    "    label = \"\", color = cols[4])\n",
    "err = abs.(ev2 .- ana_var.(ts2)) ./ ana_var.(ts2)\n",
    "plot!(p, ts2, err; subplot = 2,\n",
    "    label = \"\", color = cols[4], linestyle = :dash)\n",
    "err = abs.(ev4 .- ana_var.(ts4)) ./ ana_var.(ts4)\n",
    "plot!(p, ts4, err; subplot = 2, \n",
    "    label = \"\", color = cols[4], linestyle = :dot)\n",
    "\n",
    "p"
   ]
  },
  {
   "attachments": {},
   "cell_type": "markdown",
   "metadata": {},
   "source": [
    "### Paper plot"
   ]
  },
  {
   "cell_type": "code",
   "execution_count": null,
   "metadata": {},
   "outputs": [],
   "source": [
    "pl = plot(plot(p1; right_margin = -3Plots.Measures.mm ) ,p2; layout = (2,1))\n",
    "ptmp2 = plot(pl, p3, p; layout = (1,3), size = (1000, 350), \n",
    "left_margin = -1Plots.Measures.mm, bottom_margin = -4Plots.Measures.mm)"
   ]
  },
  {
   "cell_type": "code",
   "execution_count": null,
   "metadata": {},
   "outputs": [],
   "source": [
    "# savefig(ptmp2, \"lin_model_solvers.pdf\")"
   ]
  },
  {
   "cell_type": "markdown",
   "metadata": {},
   "source": [
    "## Complete plot"
   ]
  },
  {
   "cell_type": "code",
   "execution_count": null,
   "metadata": {},
   "outputs": [],
   "source": [
    "p_final = plot(lin_plot, middle_plot, p; layout = (1,3), size = (1000, 385), \n",
    "    left_margin = 0Plots.Measures.mm, bottom_margin = -4Plots.Measures.mm)"
   ]
  },
  {
   "cell_type": "code",
   "execution_count": null,
   "metadata": {},
   "outputs": [],
   "source": [
    "# savefig(p_final, \"lin_plot.pdf\")"
   ]
  }
 ],
 "metadata": {
  "kernelspec": {
   "display_name": "Julia 1.9.2",
   "language": "julia",
   "name": "julia-1.9"
  },
  "language_info": {
   "file_extension": ".jl",
   "mimetype": "application/julia",
   "name": "julia",
   "version": "1.9.2"
  },
  "vscode": {
   "interpreter": {
    "hash": "e7370f93d1d0cde622a1f8e1c04877d8463912d04d973331ad4851f04de6915a"
   }
  }
 },
 "nbformat": 4,
 "nbformat_minor": 2
}
